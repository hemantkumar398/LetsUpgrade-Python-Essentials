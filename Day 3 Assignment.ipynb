{
 "cells": [
  {
   "cell_type": "markdown",
   "metadata": {},
   "source": [
    "# Question 1\n",
    "\n",
    "You all are Pilots, you want to land a plane safely, so altitude required for landing a plane is\n",
    "1000ft, it it is less than tell pilot to land the plane, or it is more than that but less than 5000ft ask\n",
    "the pilot to “come down to 1000ft”, else if it more than 5000ft ask the pilot to “go around and try\n",
    "later”\n"
   ]
  },
  {
   "cell_type": "code",
   "execution_count": 10,
   "metadata": {},
   "outputs": [
    {
     "name": "stdout",
     "output_type": "stream",
     "text": [
      "Enter Altitude:- 1200\n",
      "Bring down to 1000ft\n"
     ]
    }
   ],
   "source": [
    "altitude = input(\"Enter Altitude:- \")\n",
    "altitude = int(altitude)\n",
    "if altitude <= 1000:\n",
    "    print(\"Plane is safe to land\")\n",
    "elif altitude >1000 and altitude<5000:\n",
    "    print(\"Bring down to 1000ft\")\n",
    "else:\n",
    "    print(\"Turn around and try later\")\n",
    "    "
   ]
  },
  {
   "cell_type": "markdown",
   "metadata": {},
   "source": [
    "# Question 2\n",
    "\n",
    "Using for loop please print all the prime numbers between 1- 200 using FOR LOOP AND RANGE\n",
    "function.\n"
   ]
  },
  {
   "cell_type": "code",
   "execution_count": 11,
   "metadata": {},
   "outputs": [
    {
     "name": "stdout",
     "output_type": "stream",
     "text": [
      "2  3  5  7  11  13  17  19  23  29  31  37  41  43  47  53  59  61  67  71  73  79  83  89  97  101  103  107  109  113  127  131  137  139  149  151  157  163  167  173  179  181  191  193  197  199  "
     ]
    }
   ],
   "source": [
    "for i in range (1, 201):\n",
    "    count = 0\n",
    "    for j in range(2, (i//2 + 1)):\n",
    "        if(i % j == 0):\n",
    "            count = count + 1\n",
    "\n",
    "    if (count == 0 and i != 1):\n",
    "        print(i, end = '  ')"
   ]
  },
  {
   "cell_type": "code",
   "execution_count": null,
   "metadata": {},
   "outputs": [],
   "source": []
  }
 ],
 "metadata": {
  "kernelspec": {
   "display_name": "Python 3",
   "language": "python",
   "name": "python3"
  },
  "language_info": {
   "codemirror_mode": {
    "name": "ipython",
    "version": 3
   },
   "file_extension": ".py",
   "mimetype": "text/x-python",
   "name": "python",
   "nbconvert_exporter": "python",
   "pygments_lexer": "ipython3",
   "version": "3.7.6"
  }
 },
 "nbformat": 4,
 "nbformat_minor": 4
}
