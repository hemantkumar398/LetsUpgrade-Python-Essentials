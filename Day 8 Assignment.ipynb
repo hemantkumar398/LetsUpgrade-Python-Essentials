{
 "cells": [
  {
   "cell_type": "markdown",
   "metadata": {},
   "source": [
    "# Question 1\n",
    "\n",
    "Write a decorator function for your taking input for you any kind of function you want to build,\n",
    "For example - You make a fibonacci series function,in which your input range is been defined by\n",
    "the decorator program input.\n"
   ]
  },
  {
   "cell_type": "code",
   "execution_count": 1,
   "metadata": {},
   "outputs": [],
   "source": [
    "arr = []"
   ]
  },
  {
   "cell_type": "code",
   "execution_count": 18,
   "metadata": {},
   "outputs": [],
   "source": [
    "def getInput(Some_function):\n",
    "    def wrap_function():\n",
    "        print(\"Enter two numbers below \")\n",
    "        a = int(input(\"Enter your First number:- \"))\n",
    "        b = int(input(\"Enter your second number:- \"))\n",
    "        for i in range(a,b):\n",
    "            Some_function(i)   \n",
    "    return wrap_function"
   ]
  },
  {
   "cell_type": "code",
   "execution_count": 19,
   "metadata": {},
   "outputs": [],
   "source": [
    "@getInput\n",
    "def prime(num):\n",
    "    check = 0\n",
    "    for y in range(2,num):\n",
    "        if num%y == 0 :\n",
    "            check+=1\n",
    "    if check==0 and num != 1:\n",
    "        arr.append(num)"
   ]
  },
  {
   "cell_type": "code",
   "execution_count": 20,
   "metadata": {},
   "outputs": [
    {
     "name": "stdout",
     "output_type": "stream",
     "text": [
      "Enter two numbers below \n",
      "Enter your First number:- 10\n",
      "Enter your second number:- 100\n"
     ]
    }
   ],
   "source": [
    "prime()"
   ]
  },
  {
   "cell_type": "code",
   "execution_count": 17,
   "metadata": {},
   "outputs": [
    {
     "name": "stdout",
     "output_type": "stream",
     "text": [
      "[2, 3, 5, 7, 2, 3, 2, 3, 5, 7, 2, 3, 5, 7, 11, 13, 17, 19, 23, 29, 31, 37, 41, 43, 47, 53, 59, 61, 67, 71, 73, 79, 83, 89, 97]\n"
     ]
    }
   ],
   "source": [
    "print(arr)"
   ]
  },
  {
   "cell_type": "markdown",
   "metadata": {},
   "source": [
    "# Question 2\n",
    "\n",
    "For this challenge you need to develop a Python program to open a file in read only mode and try\n",
    "writing something to it and handle the subsequent errors using Exception Handling"
   ]
  },
  {
   "cell_type": "code",
   "execution_count": 21,
   "metadata": {},
   "outputs": [
    {
     "name": "stdout",
     "output_type": "stream",
     "text": [
      "Writing Hemant.txt\n"
     ]
    }
   ],
   "source": [
    "%%writefile Hemant.txt\n",
    "\n",
    "This is the test file for the exception handling in python for the python course in letsupgrade Batch 7."
   ]
  },
  {
   "cell_type": "code",
   "execution_count": 23,
   "metadata": {},
   "outputs": [
    {
     "data": {
      "text/plain": [
       "'\\nThis is the test file for the exception handling in python for the python course in letsupgrade Batch 7.\\n'"
      ]
     },
     "execution_count": 23,
     "metadata": {},
     "output_type": "execute_result"
    }
   ],
   "source": [
    "f = open(\"Hemant.txt\",'r')\n",
    "f.read()"
   ]
  },
  {
   "cell_type": "code",
   "execution_count": 24,
   "metadata": {},
   "outputs": [
    {
     "name": "stdout",
     "output_type": "stream",
     "text": [
      "Unable to write to file due to the read mode of file\n"
     ]
    }
   ],
   "source": [
    "try:\n",
    "    f.write(\"My Second Line of Text\")\n",
    "except:\n",
    "    print(\"Unable to write to file due to the read mode of file\")\n",
    "finally:\n",
    "    f.close()"
   ]
  },
  {
   "cell_type": "code",
   "execution_count": null,
   "metadata": {},
   "outputs": [],
   "source": []
  }
 ],
 "metadata": {
  "kernelspec": {
   "display_name": "Python 3",
   "language": "python",
   "name": "python3"
  },
  "language_info": {
   "codemirror_mode": {
    "name": "ipython",
    "version": 3
   },
   "file_extension": ".py",
   "mimetype": "text/x-python",
   "name": "python",
   "nbconvert_exporter": "python",
   "pygments_lexer": "ipython3",
   "version": "3.7.6"
  }
 },
 "nbformat": 4,
 "nbformat_minor": 4
}
